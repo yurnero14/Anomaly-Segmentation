version https://git-lfs.github.com/spec/v1
oid sha256:54021c365d9b69ef5201bb0673c66c4ad0d3b76a1c6c2db48e372454ba1e0088
size 38467572
