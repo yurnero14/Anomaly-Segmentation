version https://git-lfs.github.com/spec/v1
oid sha256:0254fdf684afd8c2ce1ea021791a89560b76a8773ced45600c2f9f93c99e514b
size 3949417
